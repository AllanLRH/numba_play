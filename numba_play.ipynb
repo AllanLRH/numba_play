{
 "cells": [
  {
   "cell_type": "code",
   "execution_count": 1,
   "metadata": {},
   "outputs": [],
   "source": [
    "import numpy as np\n",
    "import pandas as pd\n",
    "from numba import jit, njit, vectorize\n",
    "import matplotlib as mpl\n",
    "import matplotlib.pyplot as plt\n",
    "mpl.style.use('bmh')"
   ]
  },
  {
   "cell_type": "code",
   "execution_count": 3,
   "metadata": {},
   "outputs": [],
   "source": [
    "def original_function(input_lst):\n",
    "    output_lst = list()\n",
    "    for item in input_lst:\n",
    "        if item % 2 == 0:\n",
    "            output_lst.append(2)\n",
    "        else:\n",
    "            output_lst.append('1')  # this mixing of types is a problem for numba\n",
    "    return output_lst\n",
    "\n",
    "test_lst = list(range(10_000))"
   ]
  },
  {
   "cell_type": "code",
   "execution_count": 3,
   "metadata": {},
   "outputs": [
    {
     "name": "stdout",
     "output_type": "stream",
     "text": [
      "1.19 ms ± 28.5 µs per loop (mean ± std. dev. of 7 runs, 1000 loops each)\n"
     ]
    }
   ],
   "source": [
    "%timeit original_function(test_lst)"
   ]
  },
  {
   "cell_type": "code",
   "execution_count": 4,
   "metadata": {},
   "outputs": [],
   "source": [
    "jitted_original = jit()(original_function) "
   ]
  },
  {
   "cell_type": "markdown",
   "metadata": {},
   "source": [
    "This should raise a warning because output_lst is not containing just int64"
   ]
  },
  {
   "cell_type": "code",
   "execution_count": 5,
   "metadata": {},
   "outputs": [
    {
     "name": "stderr",
     "output_type": "stream",
     "text": [
      "<ipython-input-2-427c6da15cfc>:1: NumbaWarning: \n",
      "Compilation is falling back to object mode WITH looplifting enabled because Function \"original_function\" failed type inference due to: Invalid use of BoundFunction(list.append for list(int64)) with parameters (Literal[str](1))\n",
      " * parameterized\n",
      "[1] During: resolving callee type: BoundFunction(list.append for list(int64))\n",
      "[2] During: typing of call at <ipython-input-2-427c6da15cfc> (7)\n",
      "\n",
      "\n",
      "File \"<ipython-input-2-427c6da15cfc>\", line 7:\n",
      "def original_function(input_lst):\n",
      "    <source elided>\n",
      "        else:\n",
      "            output_lst.append('1')  # this mixing of types is a problem for numba\n",
      "            ^\n",
      "\n",
      "  def original_function(input_lst):\n",
      "<ipython-input-2-427c6da15cfc>:1: NumbaWarning: \n",
      "Compilation is falling back to object mode WITHOUT looplifting enabled because Function \"original_function\" failed type inference due to: cannot determine Numba type of <class 'numba.dispatcher.LiftedLoop'>\n",
      "\n",
      "File \"<ipython-input-2-427c6da15cfc>\", line 3:\n",
      "def original_function(input_lst):\n",
      "    <source elided>\n",
      "    output_lst = list()\n",
      "    for item in input_lst:\n",
      "    ^\n",
      "\n",
      "  def original_function(input_lst):\n",
      "/Users/allan/miniconda3/envs/py37/lib/python3.7/site-packages/numba/compiler.py:742: NumbaWarning: Function \"original_function\" was compiled in object mode without forceobj=True, but has lifted loops.\n",
      "\n",
      "File \"<ipython-input-2-427c6da15cfc>\", line 1:\n",
      "def original_function(input_lst):\n",
      "^\n",
      "\n",
      "  self.func_ir.loc))\n",
      "/Users/allan/miniconda3/envs/py37/lib/python3.7/site-packages/numba/compiler.py:751: NumbaDeprecationWarning: \n",
      "Fall-back from the nopython compilation path to the object mode compilation path has been detected, this is deprecated behaviour.\n",
      "\n",
      "For more information visit http://numba.pydata.org/numba-doc/latest/reference/deprecation.html#deprecation-of-object-mode-fall-back-behaviour-when-using-jit\n",
      "\n",
      "File \"<ipython-input-2-427c6da15cfc>\", line 1:\n",
      "def original_function(input_lst):\n",
      "^\n",
      "\n",
      "  warnings.warn(errors.NumbaDeprecationWarning(msg, self.func_ir.loc))\n",
      "<ipython-input-2-427c6da15cfc>:1: NumbaWarning: \n",
      "Compilation is falling back to object mode WITHOUT looplifting enabled because Function \"original_function\" failed type inference due to: non-precise type pyobject\n",
      "[1] During: typing of argument at <ipython-input-2-427c6da15cfc> (3)\n",
      "\n",
      "File \"<ipython-input-2-427c6da15cfc>\", line 3:\n",
      "def original_function(input_lst):\n",
      "    <source elided>\n",
      "    output_lst = list()\n",
      "    for item in input_lst:\n",
      "    ^\n",
      "\n",
      "  def original_function(input_lst):\n"
     ]
    },
    {
     "name": "stdout",
     "output_type": "stream",
     "text": [
      "2.21 ms ± 149 µs per loop (mean ± std. dev. of 7 runs, 1 loop each)\n"
     ]
    },
    {
     "name": "stderr",
     "output_type": "stream",
     "text": [
      "/Users/allan/miniconda3/envs/py37/lib/python3.7/site-packages/numba/compiler.py:742: NumbaWarning: Function \"original_function\" was compiled in object mode without forceobj=True.\n",
      "\n",
      "File \"<ipython-input-2-427c6da15cfc>\", line 3:\n",
      "def original_function(input_lst):\n",
      "    <source elided>\n",
      "    output_lst = list()\n",
      "    for item in input_lst:\n",
      "    ^\n",
      "\n",
      "  self.func_ir.loc))\n",
      "/Users/allan/miniconda3/envs/py37/lib/python3.7/site-packages/numba/compiler.py:751: NumbaDeprecationWarning: \n",
      "Fall-back from the nopython compilation path to the object mode compilation path has been detected, this is deprecated behaviour.\n",
      "\n",
      "For more information visit http://numba.pydata.org/numba-doc/latest/reference/deprecation.html#deprecation-of-object-mode-fall-back-behaviour-when-using-jit\n",
      "\n",
      "File \"<ipython-input-2-427c6da15cfc>\", line 3:\n",
      "def original_function(input_lst):\n",
      "    <source elided>\n",
      "    output_lst = list()\n",
      "    for item in input_lst:\n",
      "    ^\n",
      "\n",
      "  warnings.warn(errors.NumbaDeprecationWarning(msg, self.func_ir.loc))\n"
     ]
    }
   ],
   "source": [
    "%timeit jitted_original(test_lst)"
   ]
  },
  {
   "cell_type": "markdown",
   "metadata": {},
   "source": [
    "Using the `njit`-function (or `jit(no_python=True)` should raise an error"
   ]
  },
  {
   "cell_type": "code",
   "execution_count": 6,
   "metadata": {},
   "outputs": [],
   "source": [
    "jitted_original = jit(nopython=True)(original_function)"
   ]
  },
  {
   "cell_type": "code",
   "execution_count": 7,
   "metadata": {},
   "outputs": [
    {
     "ename": "TypingError",
     "evalue": "Failed in nopython mode pipeline (step: nopython frontend)\nInvalid use of BoundFunction(list.append for list(int64)) with parameters (Literal[str](1))\n * parameterized\n[1] During: resolving callee type: BoundFunction(list.append for list(int64))\n[2] During: typing of call at <ipython-input-2-427c6da15cfc> (7)\n\n\nFile \"<ipython-input-2-427c6da15cfc>\", line 7:\ndef original_function(input_lst):\n    <source elided>\n        else:\n            output_lst.append('1')  # this mixing of types is a problem for numba\n            ^\n\nThis is not usually a problem with Numba itself but instead often caused by\nthe use of unsupported features or an issue in resolving types.\n\nTo see Python/NumPy features supported by the latest release of Numba visit:\nhttp://numba.pydata.org/numba-doc/latest/reference/pysupported.html\nand\nhttp://numba.pydata.org/numba-doc/latest/reference/numpysupported.html\n\nFor more information about typing errors and how to debug them visit:\nhttp://numba.pydata.org/numba-doc/latest/user/troubleshoot.html#my-code-doesn-t-compile\n\nIf you think your code should work with Numba, please report the error message\nand traceback, along with a minimal reproducer at:\nhttps://github.com/numba/numba/issues/new\n",
     "output_type": "error",
     "traceback": [
      "\u001b[0;31m---------------------------------------------------------------------------\u001b[0m",
      "\u001b[0;31mTypingError\u001b[0m                               Traceback (most recent call last)",
      "\u001b[0;32m<ipython-input-7-3aa4b529d572>\u001b[0m in \u001b[0;36m<module>\u001b[0;34m\u001b[0m\n\u001b[0;32m----> 1\u001b[0;31m \u001b[0mget_ipython\u001b[0m\u001b[0;34m(\u001b[0m\u001b[0;34m)\u001b[0m\u001b[0;34m.\u001b[0m\u001b[0mrun_line_magic\u001b[0m\u001b[0;34m(\u001b[0m\u001b[0;34m'timeit'\u001b[0m\u001b[0;34m,\u001b[0m \u001b[0;34m'jitted_original(test_lst)'\u001b[0m\u001b[0;34m)\u001b[0m\u001b[0;34m\u001b[0m\u001b[0;34m\u001b[0m\u001b[0m\n\u001b[0m",
      "\u001b[0;32m~/miniconda3/envs/py37/lib/python3.7/site-packages/IPython/core/interactiveshell.py\u001b[0m in \u001b[0;36mrun_line_magic\u001b[0;34m(self, magic_name, line, _stack_depth)\u001b[0m\n\u001b[1;32m   2312\u001b[0m                 \u001b[0mkwargs\u001b[0m\u001b[0;34m[\u001b[0m\u001b[0;34m'local_ns'\u001b[0m\u001b[0;34m]\u001b[0m \u001b[0;34m=\u001b[0m \u001b[0msys\u001b[0m\u001b[0;34m.\u001b[0m\u001b[0m_getframe\u001b[0m\u001b[0;34m(\u001b[0m\u001b[0mstack_depth\u001b[0m\u001b[0;34m)\u001b[0m\u001b[0;34m.\u001b[0m\u001b[0mf_locals\u001b[0m\u001b[0;34m\u001b[0m\u001b[0;34m\u001b[0m\u001b[0m\n\u001b[1;32m   2313\u001b[0m             \u001b[0;32mwith\u001b[0m \u001b[0mself\u001b[0m\u001b[0;34m.\u001b[0m\u001b[0mbuiltin_trap\u001b[0m\u001b[0;34m:\u001b[0m\u001b[0;34m\u001b[0m\u001b[0;34m\u001b[0m\u001b[0m\n\u001b[0;32m-> 2314\u001b[0;31m                 \u001b[0mresult\u001b[0m \u001b[0;34m=\u001b[0m \u001b[0mfn\u001b[0m\u001b[0;34m(\u001b[0m\u001b[0;34m*\u001b[0m\u001b[0margs\u001b[0m\u001b[0;34m,\u001b[0m \u001b[0;34m**\u001b[0m\u001b[0mkwargs\u001b[0m\u001b[0;34m)\u001b[0m\u001b[0;34m\u001b[0m\u001b[0;34m\u001b[0m\u001b[0m\n\u001b[0m\u001b[1;32m   2315\u001b[0m             \u001b[0;32mreturn\u001b[0m \u001b[0mresult\u001b[0m\u001b[0;34m\u001b[0m\u001b[0;34m\u001b[0m\u001b[0m\n\u001b[1;32m   2316\u001b[0m \u001b[0;34m\u001b[0m\u001b[0m\n",
      "\u001b[0;32m</Users/allan/miniconda3/envs/py37/lib/python3.7/site-packages/decorator.py:decorator-gen-60>\u001b[0m in \u001b[0;36mtimeit\u001b[0;34m(self, line, cell, local_ns)\u001b[0m\n",
      "\u001b[0;32m~/miniconda3/envs/py37/lib/python3.7/site-packages/IPython/core/magic.py\u001b[0m in \u001b[0;36m<lambda>\u001b[0;34m(f, *a, **k)\u001b[0m\n\u001b[1;32m    185\u001b[0m     \u001b[0;31m# but it's overkill for just that one bit of state.\u001b[0m\u001b[0;34m\u001b[0m\u001b[0;34m\u001b[0m\u001b[0;34m\u001b[0m\u001b[0m\n\u001b[1;32m    186\u001b[0m     \u001b[0;32mdef\u001b[0m \u001b[0mmagic_deco\u001b[0m\u001b[0;34m(\u001b[0m\u001b[0marg\u001b[0m\u001b[0;34m)\u001b[0m\u001b[0;34m:\u001b[0m\u001b[0;34m\u001b[0m\u001b[0;34m\u001b[0m\u001b[0m\n\u001b[0;32m--> 187\u001b[0;31m         \u001b[0mcall\u001b[0m \u001b[0;34m=\u001b[0m \u001b[0;32mlambda\u001b[0m \u001b[0mf\u001b[0m\u001b[0;34m,\u001b[0m \u001b[0;34m*\u001b[0m\u001b[0ma\u001b[0m\u001b[0;34m,\u001b[0m \u001b[0;34m**\u001b[0m\u001b[0mk\u001b[0m\u001b[0;34m:\u001b[0m \u001b[0mf\u001b[0m\u001b[0;34m(\u001b[0m\u001b[0;34m*\u001b[0m\u001b[0ma\u001b[0m\u001b[0;34m,\u001b[0m \u001b[0;34m**\u001b[0m\u001b[0mk\u001b[0m\u001b[0;34m)\u001b[0m\u001b[0;34m\u001b[0m\u001b[0;34m\u001b[0m\u001b[0m\n\u001b[0m\u001b[1;32m    188\u001b[0m \u001b[0;34m\u001b[0m\u001b[0m\n\u001b[1;32m    189\u001b[0m         \u001b[0;32mif\u001b[0m \u001b[0mcallable\u001b[0m\u001b[0;34m(\u001b[0m\u001b[0marg\u001b[0m\u001b[0;34m)\u001b[0m\u001b[0;34m:\u001b[0m\u001b[0;34m\u001b[0m\u001b[0;34m\u001b[0m\u001b[0m\n",
      "\u001b[0;32m~/miniconda3/envs/py37/lib/python3.7/site-packages/IPython/core/magics/execution.py\u001b[0m in \u001b[0;36mtimeit\u001b[0;34m(self, line, cell, local_ns)\u001b[0m\n\u001b[1;32m   1156\u001b[0m             \u001b[0;32mfor\u001b[0m \u001b[0mindex\u001b[0m \u001b[0;32min\u001b[0m \u001b[0mrange\u001b[0m\u001b[0;34m(\u001b[0m\u001b[0;36m0\u001b[0m\u001b[0;34m,\u001b[0m \u001b[0;36m10\u001b[0m\u001b[0;34m)\u001b[0m\u001b[0;34m:\u001b[0m\u001b[0;34m\u001b[0m\u001b[0;34m\u001b[0m\u001b[0m\n\u001b[1;32m   1157\u001b[0m                 \u001b[0mnumber\u001b[0m \u001b[0;34m=\u001b[0m \u001b[0;36m10\u001b[0m \u001b[0;34m**\u001b[0m \u001b[0mindex\u001b[0m\u001b[0;34m\u001b[0m\u001b[0;34m\u001b[0m\u001b[0m\n\u001b[0;32m-> 1158\u001b[0;31m                 \u001b[0mtime_number\u001b[0m \u001b[0;34m=\u001b[0m \u001b[0mtimer\u001b[0m\u001b[0;34m.\u001b[0m\u001b[0mtimeit\u001b[0m\u001b[0;34m(\u001b[0m\u001b[0mnumber\u001b[0m\u001b[0;34m)\u001b[0m\u001b[0;34m\u001b[0m\u001b[0;34m\u001b[0m\u001b[0m\n\u001b[0m\u001b[1;32m   1159\u001b[0m                 \u001b[0;32mif\u001b[0m \u001b[0mtime_number\u001b[0m \u001b[0;34m>=\u001b[0m \u001b[0;36m0.2\u001b[0m\u001b[0;34m:\u001b[0m\u001b[0;34m\u001b[0m\u001b[0;34m\u001b[0m\u001b[0m\n\u001b[1;32m   1160\u001b[0m                     \u001b[0;32mbreak\u001b[0m\u001b[0;34m\u001b[0m\u001b[0;34m\u001b[0m\u001b[0m\n",
      "\u001b[0;32m~/miniconda3/envs/py37/lib/python3.7/site-packages/IPython/core/magics/execution.py\u001b[0m in \u001b[0;36mtimeit\u001b[0;34m(self, number)\u001b[0m\n\u001b[1;32m    167\u001b[0m         \u001b[0mgc\u001b[0m\u001b[0;34m.\u001b[0m\u001b[0mdisable\u001b[0m\u001b[0;34m(\u001b[0m\u001b[0;34m)\u001b[0m\u001b[0;34m\u001b[0m\u001b[0;34m\u001b[0m\u001b[0m\n\u001b[1;32m    168\u001b[0m         \u001b[0;32mtry\u001b[0m\u001b[0;34m:\u001b[0m\u001b[0;34m\u001b[0m\u001b[0;34m\u001b[0m\u001b[0m\n\u001b[0;32m--> 169\u001b[0;31m             \u001b[0mtiming\u001b[0m \u001b[0;34m=\u001b[0m \u001b[0mself\u001b[0m\u001b[0;34m.\u001b[0m\u001b[0minner\u001b[0m\u001b[0;34m(\u001b[0m\u001b[0mit\u001b[0m\u001b[0;34m,\u001b[0m \u001b[0mself\u001b[0m\u001b[0;34m.\u001b[0m\u001b[0mtimer\u001b[0m\u001b[0;34m)\u001b[0m\u001b[0;34m\u001b[0m\u001b[0;34m\u001b[0m\u001b[0m\n\u001b[0m\u001b[1;32m    170\u001b[0m         \u001b[0;32mfinally\u001b[0m\u001b[0;34m:\u001b[0m\u001b[0;34m\u001b[0m\u001b[0;34m\u001b[0m\u001b[0m\n\u001b[1;32m    171\u001b[0m             \u001b[0;32mif\u001b[0m \u001b[0mgcold\u001b[0m\u001b[0;34m:\u001b[0m\u001b[0;34m\u001b[0m\u001b[0;34m\u001b[0m\u001b[0m\n",
      "\u001b[0;32m<magic-timeit>\u001b[0m in \u001b[0;36minner\u001b[0;34m(_it, _timer)\u001b[0m\n",
      "\u001b[0;32m~/miniconda3/envs/py37/lib/python3.7/site-packages/numba/dispatcher.py\u001b[0m in \u001b[0;36m_compile_for_args\u001b[0;34m(self, *args, **kws)\u001b[0m\n\u001b[1;32m    374\u001b[0m                 \u001b[0me\u001b[0m\u001b[0;34m.\u001b[0m\u001b[0mpatch_message\u001b[0m\u001b[0;34m(\u001b[0m\u001b[0mmsg\u001b[0m\u001b[0;34m)\u001b[0m\u001b[0;34m\u001b[0m\u001b[0;34m\u001b[0m\u001b[0m\n\u001b[1;32m    375\u001b[0m \u001b[0;34m\u001b[0m\u001b[0m\n\u001b[0;32m--> 376\u001b[0;31m             \u001b[0merror_rewrite\u001b[0m\u001b[0;34m(\u001b[0m\u001b[0me\u001b[0m\u001b[0;34m,\u001b[0m \u001b[0;34m'typing'\u001b[0m\u001b[0;34m)\u001b[0m\u001b[0;34m\u001b[0m\u001b[0;34m\u001b[0m\u001b[0m\n\u001b[0m\u001b[1;32m    377\u001b[0m         \u001b[0;32mexcept\u001b[0m \u001b[0merrors\u001b[0m\u001b[0;34m.\u001b[0m\u001b[0mUnsupportedError\u001b[0m \u001b[0;32mas\u001b[0m \u001b[0me\u001b[0m\u001b[0;34m:\u001b[0m\u001b[0;34m\u001b[0m\u001b[0;34m\u001b[0m\u001b[0m\n\u001b[1;32m    378\u001b[0m             \u001b[0;31m# Something unsupported is present in the user code, add help info\u001b[0m\u001b[0;34m\u001b[0m\u001b[0;34m\u001b[0m\u001b[0;34m\u001b[0m\u001b[0m\n",
      "\u001b[0;32m~/miniconda3/envs/py37/lib/python3.7/site-packages/numba/dispatcher.py\u001b[0m in \u001b[0;36merror_rewrite\u001b[0;34m(e, issue_type)\u001b[0m\n\u001b[1;32m    341\u001b[0m                 \u001b[0;32mraise\u001b[0m \u001b[0me\u001b[0m\u001b[0;34m\u001b[0m\u001b[0;34m\u001b[0m\u001b[0m\n\u001b[1;32m    342\u001b[0m             \u001b[0;32melse\u001b[0m\u001b[0;34m:\u001b[0m\u001b[0;34m\u001b[0m\u001b[0;34m\u001b[0m\u001b[0m\n\u001b[0;32m--> 343\u001b[0;31m                 \u001b[0mreraise\u001b[0m\u001b[0;34m(\u001b[0m\u001b[0mtype\u001b[0m\u001b[0;34m(\u001b[0m\u001b[0me\u001b[0m\u001b[0;34m)\u001b[0m\u001b[0;34m,\u001b[0m \u001b[0me\u001b[0m\u001b[0;34m,\u001b[0m \u001b[0;32mNone\u001b[0m\u001b[0;34m)\u001b[0m\u001b[0;34m\u001b[0m\u001b[0;34m\u001b[0m\u001b[0m\n\u001b[0m\u001b[1;32m    344\u001b[0m \u001b[0;34m\u001b[0m\u001b[0m\n\u001b[1;32m    345\u001b[0m         \u001b[0margtypes\u001b[0m \u001b[0;34m=\u001b[0m \u001b[0;34m[\u001b[0m\u001b[0;34m]\u001b[0m\u001b[0;34m\u001b[0m\u001b[0;34m\u001b[0m\u001b[0m\n",
      "\u001b[0;32m~/miniconda3/envs/py37/lib/python3.7/site-packages/numba/six.py\u001b[0m in \u001b[0;36mreraise\u001b[0;34m(tp, value, tb)\u001b[0m\n\u001b[1;32m    656\u001b[0m             \u001b[0mvalue\u001b[0m \u001b[0;34m=\u001b[0m \u001b[0mtp\u001b[0m\u001b[0;34m(\u001b[0m\u001b[0;34m)\u001b[0m\u001b[0;34m\u001b[0m\u001b[0;34m\u001b[0m\u001b[0m\n\u001b[1;32m    657\u001b[0m         \u001b[0;32mif\u001b[0m \u001b[0mvalue\u001b[0m\u001b[0;34m.\u001b[0m\u001b[0m__traceback__\u001b[0m \u001b[0;32mis\u001b[0m \u001b[0;32mnot\u001b[0m \u001b[0mtb\u001b[0m\u001b[0;34m:\u001b[0m\u001b[0;34m\u001b[0m\u001b[0;34m\u001b[0m\u001b[0m\n\u001b[0;32m--> 658\u001b[0;31m             \u001b[0;32mraise\u001b[0m \u001b[0mvalue\u001b[0m\u001b[0;34m.\u001b[0m\u001b[0mwith_traceback\u001b[0m\u001b[0;34m(\u001b[0m\u001b[0mtb\u001b[0m\u001b[0;34m)\u001b[0m\u001b[0;34m\u001b[0m\u001b[0;34m\u001b[0m\u001b[0m\n\u001b[0m\u001b[1;32m    659\u001b[0m         \u001b[0;32mraise\u001b[0m \u001b[0mvalue\u001b[0m\u001b[0;34m\u001b[0m\u001b[0;34m\u001b[0m\u001b[0m\n\u001b[1;32m    660\u001b[0m \u001b[0;34m\u001b[0m\u001b[0m\n",
      "\u001b[0;31mTypingError\u001b[0m: Failed in nopython mode pipeline (step: nopython frontend)\nInvalid use of BoundFunction(list.append for list(int64)) with parameters (Literal[str](1))\n * parameterized\n[1] During: resolving callee type: BoundFunction(list.append for list(int64))\n[2] During: typing of call at <ipython-input-2-427c6da15cfc> (7)\n\n\nFile \"<ipython-input-2-427c6da15cfc>\", line 7:\ndef original_function(input_lst):\n    <source elided>\n        else:\n            output_lst.append('1')  # this mixing of types is a problem for numba\n            ^\n\nThis is not usually a problem with Numba itself but instead often caused by\nthe use of unsupported features or an issue in resolving types.\n\nTo see Python/NumPy features supported by the latest release of Numba visit:\nhttp://numba.pydata.org/numba-doc/latest/reference/pysupported.html\nand\nhttp://numba.pydata.org/numba-doc/latest/reference/numpysupported.html\n\nFor more information about typing errors and how to debug them visit:\nhttp://numba.pydata.org/numba-doc/latest/user/troubleshoot.html#my-code-doesn-t-compile\n\nIf you think your code should work with Numba, please report the error message\nand traceback, along with a minimal reproducer at:\nhttps://github.com/numba/numba/issues/new\n"
     ]
    }
   ],
   "source": [
    "%timeit jitted_original(test_lst)"
   ]
  },
  {
   "cell_type": "code",
   "execution_count": 8,
   "metadata": {},
   "outputs": [],
   "source": [
    "def just_int_function(input_lst):\n",
    "    output_lst = list()\n",
    "    for item in input_lst:\n",
    "        if item % 2 == 0:\n",
    "            output_lst.append(2)\n",
    "        else:\n",
    "            output_lst.append(1)  # not using an int\n",
    "    return output_lst\n",
    "\n",
    "test_lst = list(range(10_000))"
   ]
  },
  {
   "cell_type": "code",
   "execution_count": 9,
   "metadata": {},
   "outputs": [
    {
     "name": "stdout",
     "output_type": "stream",
     "text": [
      "1 ms ± 12.7 µs per loop (mean ± std. dev. of 7 runs, 1000 loops each)\n"
     ]
    }
   ],
   "source": [
    "%timeit just_int_function(test_lst)"
   ]
  },
  {
   "cell_type": "code",
   "execution_count": 10,
   "metadata": {},
   "outputs": [],
   "source": [
    "jitted_just_int_function = njit()(just_int_function)"
   ]
  },
  {
   "cell_type": "code",
   "execution_count": 11,
   "metadata": {},
   "outputs": [
    {
     "name": "stderr",
     "output_type": "stream",
     "text": [
      "/Users/allan/miniconda3/envs/py37/lib/python3.7/site-packages/numba/ir_utils.py:1959: NumbaPendingDeprecationWarning: \n",
      "Encountered the use of a type that is scheduled for deprecation: type 'reflected list' found for argument 'input_lst' of function 'just_int_function'.\n",
      "\n",
      "For more information visit http://numba.pydata.org/numba-doc/latest/reference/deprecation.html#deprecation-of-reflection-for-list-and-set-types\n",
      "\n",
      "File \"<ipython-input-8-4d43ca9232c4>\", line 1:\n",
      "def just_int_function(input_lst):\n",
      "^\n",
      "\n",
      "  warnings.warn(NumbaPendingDeprecationWarning(msg, loc=loc))\n"
     ]
    },
    {
     "name": "stdout",
     "output_type": "stream",
     "text": [
      "20.4 ms ± 1.49 ms per loop (mean ± std. dev. of 7 runs, 1 loop each)\n"
     ]
    }
   ],
   "source": [
    "%timeit jitted_just_int_function(test_lst)"
   ]
  },
  {
   "cell_type": "code",
   "execution_count": 12,
   "metadata": {},
   "outputs": [],
   "source": [
    "test_arr = np.arange(10_000)"
   ]
  },
  {
   "cell_type": "code",
   "execution_count": 14,
   "metadata": {},
   "outputs": [
    {
     "name": "stdout",
     "output_type": "stream",
     "text": [
      "6.19 ms ± 92.1 µs per loop (mean ± std. dev. of 7 runs, 100 loops each)\n"
     ]
    }
   ],
   "source": [
    "%timeit just_int_function(test_arr)"
   ]
  },
  {
   "cell_type": "code",
   "execution_count": 15,
   "metadata": {},
   "outputs": [
    {
     "name": "stdout",
     "output_type": "stream",
     "text": [
      "250 µs ± 7.13 µs per loop (mean ± std. dev. of 7 runs, 1000 loops each)\n"
     ]
    }
   ],
   "source": [
    "jitted_just_int_function = njit()(just_int_function)\n",
    "_ = jitted_just_int_function(test_arr)\n",
    "%timeit jitted_just_int_function(test_arr)"
   ]
  },
  {
   "cell_type": "code",
   "execution_count": 20,
   "metadata": {},
   "outputs": [],
   "source": [
    "@vectorize\n",
    "def scalar_computation_1(num):\n",
    "    if num % 2 == 0:\n",
    "        return 2\n",
    "    else:\n",
    "        return 1\n",
    "    \n",
    "\n",
    "@vectorize\n",
    "def scalar_computation_2(num):\n",
    "    if num % 2 == 0:\n",
    "        return 2\n",
    "    return 1"
   ]
  },
  {
   "cell_type": "code",
   "execution_count": 18,
   "metadata": {},
   "outputs": [
    {
     "name": "stdout",
     "output_type": "stream",
     "text": [
      "CPU times: user 83.6 ms, sys: 3.45 ms, total: 87.1 ms\n",
      "Wall time: 85.6 ms\n"
     ]
    },
    {
     "data": {
      "text/plain": [
       "array([2, 1, 2, ..., 1, 2, 1])"
      ]
     },
     "execution_count": 18,
     "metadata": {},
     "output_type": "execute_result"
    }
   ],
   "source": [
    "%time scalar_computation_1(test_arr)"
   ]
  },
  {
   "cell_type": "code",
   "execution_count": 21,
   "metadata": {},
   "outputs": [
    {
     "name": "stdout",
     "output_type": "stream",
     "text": [
      "CPU times: user 67.9 ms, sys: 2.9 ms, total: 70.8 ms\n",
      "Wall time: 70 ms\n"
     ]
    },
    {
     "data": {
      "text/plain": [
       "array([2, 1, 2, ..., 1, 2, 1])"
      ]
     },
     "execution_count": 21,
     "metadata": {},
     "output_type": "execute_result"
    }
   ],
   "source": [
    "%time scalar_computation_2(test_arr)"
   ]
  },
  {
   "cell_type": "code",
   "execution_count": 22,
   "metadata": {},
   "outputs": [
    {
     "data": {
      "text/plain": [
       "2"
      ]
     },
     "execution_count": 22,
     "metadata": {},
     "output_type": "execute_result"
    }
   ],
   "source": [
    "scalar_computation_1(234)"
   ]
  },
  {
   "cell_type": "code",
   "execution_count": 23,
   "metadata": {},
   "outputs": [
    {
     "data": {
      "text/plain": [
       "1"
      ]
     },
     "execution_count": 23,
     "metadata": {},
     "output_type": "execute_result"
    }
   ],
   "source": [
    "scalar_computation(12341)"
   ]
  },
  {
   "cell_type": "code",
   "execution_count": 38,
   "metadata": {},
   "outputs": [],
   "source": [
    "@njit\n",
    "def fixed_function_0(arr):\n",
    "    n = arr.shape[0]\n",
    "    to_return = np.zeros(n)\n",
    "    for i in range(n):\n",
    "        if arr[i] & 2 == 0:\n",
    "            to_return[i] = 2\n",
    "        else:\n",
    "            to_return[i] = 1\n",
    "    return to_return\n",
    "\n",
    "\n",
    "@njit\n",
    "def fixed_function_1(arr):\n",
    "    to_return = np.zeros_like(arr)\n",
    "    for ii, item in enumerate(arr):\n",
    "        if item & 2 == 0:\n",
    "            to_return[ii] = 2\n",
    "        else:\n",
    "            to_return[ii] = 1\n",
    "    return to_return\n",
    "\n",
    "\n",
    "@njit\n",
    "def fixed_function_2(arr):\n",
    "    to_return = np.zeros_like(arr)\n",
    "    for ii, item in enumerate(arr):\n",
    "        to_return[ii] = 2 - (item % 2 == 0)\n",
    "    return to_return\n",
    "\n",
    "\n",
    "@njit\n",
    "def fixed_function_3(arr):\n",
    "    to_return = np.zeros_like(arr)\n",
    "    for ii, item in enumerate(arr):\n",
    "        to_return[ii] = item % 2 + 1\n",
    "    return to_return\n",
    "\n",
    "\n",
    "@njit\n",
    "def fixed_function_4(arr):\n",
    "    n = arr.shape[0]\n",
    "    to_return = np.zeros(n)\n",
    "    for i in range(n):\n",
    "        to_return[i] = arr[i] % 2 + 1\n",
    "    return to_return\n",
    "\n",
    "\n",
    "@njit\n",
    "def fixed_function_5(arr):\n",
    "    n = arr.shape[0]\n",
    "    to_return = np.zeros(n)\n",
    "    for i in range(n):\n",
    "        to_return[i] = arr[i] % 2 + 1\n",
    "    return to_return\n",
    "\n",
    "\n",
    "fixed_function_0(test_arr);\n",
    "fixed_function_1(test_arr);\n",
    "fixed_function_2(test_arr);\n",
    "fixed_function_3(test_arr);\n",
    "fixed_function_4(test_arr);\n",
    "fixed_function_5(test_arr);"
   ]
  },
  {
   "cell_type": "code",
   "execution_count": 39,
   "metadata": {},
   "outputs": [
    {
     "name": "stdout",
     "output_type": "stream",
     "text": [
      "5.28 µs ± 249 ns per loop (mean ± std. dev. of 7 runs, 100000 loops each)\n",
      "7.01 µs ± 623 ns per loop (mean ± std. dev. of 7 runs, 100000 loops each)\n",
      "9.08 µs ± 799 ns per loop (mean ± std. dev. of 7 runs, 100000 loops each)\n",
      "8.61 µs ± 777 ns per loop (mean ± std. dev. of 7 runs, 100000 loops each)\n",
      "14.8 µs ± 89.6 ns per loop (mean ± std. dev. of 7 runs, 100000 loops each)\n",
      "18.8 µs ± 1.09 µs per loop (mean ± std. dev. of 7 runs, 100000 loops each)\n"
     ]
    }
   ],
   "source": [
    "%timeit fixed_function_0(test_arr)\n",
    "%timeit fixed_function_1(test_arr)\n",
    "%timeit fixed_function_2(test_arr)\n",
    "%timeit fixed_function_3(test_arr)\n",
    "%timeit fixed_function_4(test_arr)\n",
    "%timeit fixed_function_5(test_arr)"
   ]
  },
  {
   "cell_type": "markdown",
   "metadata": {},
   "source": [
    "Doing the crazy springy thing (harmonic-ish oscilator)"
   ]
  },
  {
   "cell_type": "code",
   "execution_count": 72,
   "metadata": {},
   "outputs": [],
   "source": [
    "def friction_fn(v, vt):\n",
    "    if v > vt:\n",
    "        return -3 * v\n",
    "    return -3 * vt * np.sign(v)\n",
    "\n",
    "\n",
    "def simulate_spring_mass_funky_damper(x0, t_max=10, dt=0.0001, vt=1.0):\n",
    "    time_arr = np.arange(0, t_max, dt)\n",
    "    position_arr = np.zeros_like(time_arr) * np.NaN\n",
    "    \n",
    "    v, a, x = 0, 0, x0\n",
    "    position_arr[0] = x0/x0\n",
    "    \n",
    "    for i in range(1, time_arr.shape[0]):\n",
    "        t = time_arr[i]\n",
    "        a = friction_fn(v, vt) - 100*x\n",
    "        v = v + a*dt\n",
    "        x = x + v * dt\n",
    "        position_arr[i] = x / x0\n",
    "        \n",
    "    return time_arr, position_arr"
   ]
  },
  {
   "cell_type": "code",
   "execution_count": 73,
   "metadata": {},
   "outputs": [
    {
     "data": {
      "text/plain": [
       "<matplotlib.legend.Legend at 0x636498450>"
      ]
     },
     "execution_count": 73,
     "metadata": {},
     "output_type": "execute_result"
    },
    {
     "data": {
      "image/png": "[encoded data removed]",
      "text/plain": [
       "<Figure size 864x504 with 1 Axes>"
      ]
     },
     "metadata": {
      "needs_background": "light"
     },
     "output_type": "display_data"
    }
   ],
   "source": [
    "fig, ax = plt.subplots(figsize=[12, 7])\n",
    "ax.plot(*simulate_spring_mass_funky_damper(0.1), label='x0 = 0.1')\n",
    "ax.plot(*simulate_spring_mass_funky_damper(1), label='x0 = 1')\n",
    "ax.plot(*simulate_spring_mass_funky_damper(10), label='x0 = 10')\n",
    "ax.legend(loc='upper right') "
   ]
  },
  {
   "cell_type": "code",
   "execution_count": 74,
   "metadata": {},
   "outputs": [
    {
     "name": "stdout",
     "output_type": "stream",
     "text": [
      "319 ms ± 9.33 ms per loop (mean ± std. dev. of 7 runs, 1 loop each)\n"
     ]
    }
   ],
   "source": [
    "%timeit simulate_spring_mass_funky_damper(1) "
   ]
  },
  {
   "cell_type": "code",
   "execution_count": 4,
   "metadata": {},
   "outputs": [],
   "source": [
    "@njit\n",
    "def jitted_friction_fn(v, vt):\n",
    "    if v > vt:\n",
    "        return -3 * v\n",
    "    return -3 * vt * np.sign(v)\n",
    "\n",
    "@njit\n",
    "def jitted_simulate_spring_mass_funky_damper(x0, t_max=10, dt=0.0001, vt=1.0):\n",
    "    time_arr = np.arange(0, t_max, dt)\n",
    "    position_arr = np.zeros_like(time_arr) * np.NaN\n",
    "    \n",
    "    v, a, x = 0, 0, x0\n",
    "    position_arr[0] = x0/x0\n",
    "    \n",
    "    for i in range(1, time_arr.shape[0]):\n",
    "        t = time_arr[i]\n",
    "        a = jitted_friction_fn(v, vt) - 100*x\n",
    "        v = v + a*dt\n",
    "        x = x + v * dt\n",
    "        position_arr[i] = x / x0\n",
    "        \n",
    "    return time_arr, position_arr "
   ]
  },
  {
   "cell_type": "code",
   "execution_count": 76,
   "metadata": {},
   "outputs": [
    {
     "data": {
      "text/plain": [
       "<matplotlib.legend.Legend at 0x62a237310>"
      ]
     },
     "execution_count": 76,
     "metadata": {},
     "output_type": "execute_result"
    },
    {
     "data": {
      "image/png": "[encoded data removed]",
      "text/plain": [
       "<Figure size 864x504 with 1 Axes>"
      ]
     },
     "metadata": {
      "needs_background": "light"
     },
     "output_type": "display_data"
    }
   ],
   "source": [
    "fig, ax = plt.subplots(figsize=[12, 7])\n",
    "ax.plot(*jitted_simulate_spring_mass_funky_damper(0.1), label='x0 = 0.1')\n",
    "ax.plot(*jitted_simulate_spring_mass_funky_damper(1), label='x0 = 1')\n",
    "ax.plot(*jitted_simulate_spring_mass_funky_damper(10), label='x0 = 10')\n",
    "ax.legend(loc='upper right') "
   ]
  },
  {
   "cell_type": "code",
   "execution_count": 77,
   "metadata": {},
   "outputs": [
    {
     "name": "stdout",
     "output_type": "stream",
     "text": [
      "1.01 ms ± 41.4 µs per loop (mean ± std. dev. of 7 runs, 1000 loops each)\n"
     ]
    }
   ],
   "source": [
    "%timeit jitted_simulate_spring_mass_funky_damper(1) "
   ]
  },
  {
   "cell_type": "code",
   "execution_count": 27,
   "metadata": {},
   "outputs": [
    {
     "name": "stdout",
     "output_type": "stream",
     "text": [
      "997 µs ± 29.7 µs per loop (mean ± std. dev. of 7 runs, 1000 loops each)\n"
     ]
    }
   ],
   "source": [
    "@njit\n",
    "def jitted_friction_fn(v, vt):\n",
    "    if v > vt:\n",
    "        return -3 * v\n",
    "    return -3 * vt * np.sign(v)\n",
    "\n",
    "@njit\n",
    "def jitted_simulate_spring_mass_funky_damper(x0, t_max=10, dt=0.0001, vt=1.0):\n",
    "    time_arr = np.arange(0, t_max, dt)\n",
    "    position_arr = np.zeros_like(time_arr) * np.NaN\n",
    "    \n",
    "    v, a, x = 0, 0, x0\n",
    "    position_arr[0] = x0/x0\n",
    "    \n",
    "    for i in range(1, time_arr.shape[0]):\n",
    "        t = time_arr[i]\n",
    "        a = jitted_friction_fn(v, vt) - 100*x\n",
    "        v += a*dt\n",
    "        x += v * dt\n",
    "        position_arr[i] = x / x0\n",
    "        \n",
    "    return time_arr, position_arr \n",
    "\n",
    "\n",
    "jitted_simulate_spring_mass_funky_damper(1);\n",
    "%timeit jitted_simulate_spring_mass_funky_damper(1) "
   ]
  },
  {
   "cell_type": "markdown",
   "metadata": {},
   "source": [
    "Even though we aren't using any part of the Python engine, the GIL is not released until we explicitly tell it to be:"
   ]
  },
  {
   "cell_type": "code",
   "execution_count": 28,
   "metadata": {},
   "outputs": [],
   "source": [
    "from concurrent.futures import ThreadPoolExecutor"
   ]
  },
  {
   "cell_type": "code",
   "execution_count": 29,
   "metadata": {},
   "outputs": [
    {
     "name": "stdout",
     "output_type": "stream",
     "text": [
      "104 ms ± 1.6 ms per loop (mean ± std. dev. of 7 runs, 1 loop each)\n"
     ]
    }
   ],
   "source": [
    "%%timeit\n",
    "\n",
    "with ThreadPoolExecutor(8) as pool:\n",
    "    pool.map(jitted_simulate_spring_mass_funky_damper, np.arange(0.1, 100))"
   ]
  },
  {
   "cell_type": "code",
   "execution_count": 30,
   "metadata": {},
   "outputs": [],
   "source": [
    "@njit(nogil=True)\n",
    "def jitted_friction_fn(v, vt):\n",
    "    if v > vt:\n",
    "        return -3 * v\n",
    "    return -3 * vt * np.sign(v)\n",
    "\n",
    "@njit(nogil=True)\n",
    "def jitted_simulate_spring_mass_funky_damper(x0, t_max=10, dt=0.0001, vt=1.0):\n",
    "    time_arr = np.arange(0, t_max, dt)\n",
    "    position_arr = np.zeros_like(time_arr) * np.NaN\n",
    "    \n",
    "    v, a, x = 0, 0, x0\n",
    "    position_arr[0] = x0/x0\n",
    "    \n",
    "    for i in range(1, time_arr.shape[0]):\n",
    "        t = time_arr[i]\n",
    "        a = jitted_friction_fn(v, vt) - 100*x\n",
    "        v += a*dt\n",
    "        x += v * dt\n",
    "        position_arr[i] = x / x0\n",
    "        \n",
    "    return time_arr, position_arr \n"
   ]
  },
  {
   "cell_type": "code",
   "execution_count": 31,
   "metadata": {},
   "outputs": [
    {
     "name": "stdout",
     "output_type": "stream",
     "text": [
      "22.8 ms ± 2.76 ms per loop (mean ± std. dev. of 7 runs, 1 loop each)\n"
     ]
    }
   ],
   "source": [
    "%%timeit\n",
    "\n",
    "with ThreadPoolExecutor(8) as pool:\n",
    "    pool.map(jitted_simulate_spring_mass_funky_damper, np.arange(0.1, 100))"
   ]
  },
  {
   "cell_type": "markdown",
   "metadata": {},
   "source": [
    "Paralellizing usnig numba `prange` (like openmp) are a bit faster than the `ThreadPoolExecutor`"
   ]
  },
  {
   "cell_type": "code",
   "execution_count": 32,
   "metadata": {},
   "outputs": [],
   "source": [
    "from numba import prange"
   ]
  },
  {
   "cell_type": "code",
   "execution_count": 33,
   "metadata": {},
   "outputs": [],
   "source": [
    "@njit(parallel=True)\n",
    "def run_sims(end=100):\n",
    "    n_runs = int(end//0.1)\n",
    "    to_return = np.NaN * np.zeros((n_runs, 2, 100000))\n",
    "    for i in prange(n_runs): \n",
    "        if i == 0:\n",
    "            continue\n",
    "        times, positions = (jitted_simulate_spring_mass_funky_damper(i*0.1))\n",
    "        to_return[i, 0, :] = times\n",
    "        to_return[i, 1, :] = positions\n",
    "    return to_return"
   ]
  },
  {
   "cell_type": "code",
   "execution_count": 34,
   "metadata": {},
   "outputs": [
    {
     "name": "stdout",
     "output_type": "stream",
     "text": [
      "CPU times: user 5.57 s, sys: 3.64 s, total: 9.21 s\n",
      "Wall time: 2.76 s\n"
     ]
    },
    {
     "data": {
      "text/plain": [
       "array([[[            nan,             nan,             nan, ...,\n",
       "                     nan,             nan,             nan],\n",
       "        [            nan,             nan,             nan, ...,\n",
       "                     nan,             nan,             nan]],\n",
       "\n",
       "       [[ 0.00000000e+00,  1.00000000e-04,  2.00000000e-04, ...,\n",
       "          9.99970000e+00,  9.99980000e+00,  9.99990000e+00],\n",
       "        [ 1.00000000e+00,  9.99999000e-01,  9.99997300e-01, ...,\n",
       "         -1.82103434e-01, -1.82103237e-01, -1.82103157e-01]],\n",
       "\n",
       "       [[ 0.00000000e+00,  1.00000000e-04,  2.00000000e-04, ...,\n",
       "          9.99970000e+00,  9.99980000e+00,  9.99990000e+00],\n",
       "        [ 1.00000000e+00,  9.99999000e-01,  9.99997150e-01, ...,\n",
       "         -8.45045367e-02, -8.45043824e-02, -8.45042937e-02]],\n",
       "\n",
       "       ...,\n",
       "\n",
       "       [[ 0.00000000e+00,  1.00000000e-04,  2.00000000e-04, ...,\n",
       "          9.99970000e+00,  9.99980000e+00,  9.99990000e+00],\n",
       "        [ 1.00000000e+00,  9.99999000e-01,  9.99997000e-01, ...,\n",
       "         -2.13019969e-04, -2.13019840e-04, -2.13019799e-04]],\n",
       "\n",
       "       [[ 0.00000000e+00,  1.00000000e-04,  2.00000000e-04, ...,\n",
       "          9.99970000e+00,  9.99980000e+00,  9.99990000e+00],\n",
       "        [ 1.00000000e+00,  9.99999000e-01,  9.99997000e-01, ...,\n",
       "         -2.10557411e-04, -2.10557051e-04, -2.10556781e-04]],\n",
       "\n",
       "       [[ 0.00000000e+00,  1.00000000e-04,  2.00000000e-04, ...,\n",
       "          9.99970000e+00,  9.99980000e+00,  9.99990000e+00],\n",
       "        [ 1.00000000e+00,  9.99999000e-01,  9.99997000e-01, ...,\n",
       "         -2.08069036e-04, -2.08068652e-04, -2.08068361e-04]]])"
      ]
     },
     "execution_count": 34,
     "metadata": {},
     "output_type": "execute_result"
    }
   ],
   "source": [
    "%time run_sims()"
   ]
  },
  {
   "cell_type": "code",
   "execution_count": 35,
   "metadata": {},
   "outputs": [],
   "source": [
    "@njit(parallel=True)\n",
    "def run_sims(end=100):\n",
    "    n_runs = int(end//0.1)\n",
    "    for i in prange(n_runs): \n",
    "        if i == 0:\n",
    "            continue\n",
    "        jitted_simulate_spring_mass_funky_damper(i*0.1) "
   ]
  },
  {
   "cell_type": "code",
   "execution_count": 36,
   "metadata": {},
   "outputs": [
    {
     "name": "stdout",
     "output_type": "stream",
     "text": [
      "200 ms ± 9.38 ms per loop (mean ± std. dev. of 7 runs, 1 loop each)\n"
     ]
    }
   ],
   "source": [
    "%timeit run_sims() "
   ]
  },
  {
   "cell_type": "code",
   "execution_count": 23,
   "metadata": {},
   "outputs": [
    {
     "data": {
      "text/plain": [
       "'16.0 GB used for preallocation of result'"
      ]
     },
     "execution_count": 23,
     "metadata": {},
     "output_type": "execute_result"
    }
   ],
   "source": [
    "f\"{np.prod((10_000, 2, 100000)) * 64 / (8 * 1e9)} GB used for preallocation of result\""
   ]
  },
  {
   "cell_type": "code",
   "execution_count": null,
   "metadata": {},
   "outputs": [],
   "source": []
  }
 ],
 "metadata": {
  "kernelspec": {
   "display_name": "Python 3",
   "language": "python",
   "name": "python3"
  },
  "language_info": {
   "codemirror_mode": {
    "name": "ipython",
    "version": 3
   },
   "file_extension": ".py",
   "mimetype": "text/x-python",
   "name": "python",
   "nbconvert_exporter": "python",
   "pygments_lexer": "ipython3",
   "version": "3.7.4"
  }
 },
 "nbformat": 4,
 "nbformat_minor": 4
}
