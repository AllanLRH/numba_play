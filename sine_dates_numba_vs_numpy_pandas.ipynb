{
 "cells": [
  {
   "cell_type": "code",
   "execution_count": 1,
   "metadata": {},
   "outputs": [],
   "source": [
    "import numba\n",
    "import numpy as np\n",
    "import pandas as pd\n",
    "from dateutil.parser import parse as dtparse"
   ]
  },
  {
   "cell_type": "code",
   "execution_count": 2,
   "metadata": {},
   "outputs": [],
   "source": [
    "def pp(start, end, n):\n",
    "    start_u = start.value//10**9\n",
    "    end_u = end.value//10**9\n",
    "\n",
    "    return pd.Series((10**9*np.random.randint(start_u, end_u, n)).view('M8[ns]'))"
   ]
  },
  {
   "cell_type": "code",
   "execution_count": 3,
   "metadata": {},
   "outputs": [],
   "source": [
    "n = 1_000_000\n",
    "start = pd.Timestamp(dtparse('01/01/2015'))\n",
    "end = pd.Timestamp(dtparse('31/12/2019'))\n",
    "data = pp(start, end, n)"
   ]
  },
  {
   "cell_type": "code",
   "execution_count": 4,
   "metadata": {},
   "outputs": [
    {
     "data": {
      "text/plain": [
       "0        2015-03-27 12:05:24\n",
       "1        2019-03-16 17:43:45\n",
       "2        2018-11-19 23:13:09\n",
       "3        2015-10-10 04:52:34\n",
       "4        2016-04-25 16:29:25\n",
       "                 ...        \n",
       "999995   2015-07-31 06:42:15\n",
       "999996   2015-05-14 22:40:48\n",
       "999997   2019-02-10 07:51:43\n",
       "999998   2016-08-28 02:09:44\n",
       "999999   2019-09-15 22:34:19\n",
       "Length: 1000000, dtype: datetime64[ns]"
      ]
     },
     "execution_count": 4,
     "metadata": {},
     "output_type": "execute_result"
    }
   ],
   "source": [
    "data"
   ]
  },
  {
   "cell_type": "code",
   "execution_count": 5,
   "metadata": {},
   "outputs": [],
   "source": [
    "dom, dow, dim = data.dt.dayofweek, data.dt.days_in_month, data.dt.day\n",
    "dom.name = 'DayOfMonth'\n",
    "dow.name = 'DayOfWeek'\n",
    "dim.name = 'DaysInMonth'\n",
    "dom = dom.to_frame()\n",
    "dow = dow.to_frame()\n",
    "dim = dim.to_frame() "
   ]
  },
  {
   "cell_type": "code",
   "execution_count": 6,
   "metadata": {},
   "outputs": [],
   "source": [
    "df = dom.join(dow).join(dim)"
   ]
  },
  {
   "cell_type": "code",
   "execution_count": 7,
   "metadata": {},
   "outputs": [
    {
     "data": {
      "text/html": [
       "<div>\n",
       "<style scoped>\n",
       "    .dataframe tbody tr th:only-of-type {\n",
       "        vertical-align: middle;\n",
       "    }\n",
       "\n",
       "    .dataframe tbody tr th {\n",
       "        vertical-align: top;\n",
       "    }\n",
       "\n",
       "    .dataframe thead th {\n",
       "        text-align: right;\n",
       "    }\n",
       "</style>\n",
       "<table border=\"1\" class=\"dataframe\">\n",
       "  <thead>\n",
       "    <tr style=\"text-align: right;\">\n",
       "      <th></th>\n",
       "      <th>DayOfMonth</th>\n",
       "      <th>DayOfWeek</th>\n",
       "      <th>DaysInMonth</th>\n",
       "    </tr>\n",
       "  </thead>\n",
       "  <tbody>\n",
       "    <tr>\n",
       "      <th>0</th>\n",
       "      <td>4</td>\n",
       "      <td>31</td>\n",
       "      <td>27</td>\n",
       "    </tr>\n",
       "    <tr>\n",
       "      <th>1</th>\n",
       "      <td>5</td>\n",
       "      <td>31</td>\n",
       "      <td>16</td>\n",
       "    </tr>\n",
       "    <tr>\n",
       "      <th>2</th>\n",
       "      <td>0</td>\n",
       "      <td>30</td>\n",
       "      <td>19</td>\n",
       "    </tr>\n",
       "    <tr>\n",
       "      <th>3</th>\n",
       "      <td>5</td>\n",
       "      <td>31</td>\n",
       "      <td>10</td>\n",
       "    </tr>\n",
       "    <tr>\n",
       "      <th>4</th>\n",
       "      <td>0</td>\n",
       "      <td>30</td>\n",
       "      <td>25</td>\n",
       "    </tr>\n",
       "    <tr>\n",
       "      <th>...</th>\n",
       "      <td>...</td>\n",
       "      <td>...</td>\n",
       "      <td>...</td>\n",
       "    </tr>\n",
       "    <tr>\n",
       "      <th>999995</th>\n",
       "      <td>4</td>\n",
       "      <td>31</td>\n",
       "      <td>31</td>\n",
       "    </tr>\n",
       "    <tr>\n",
       "      <th>999996</th>\n",
       "      <td>3</td>\n",
       "      <td>31</td>\n",
       "      <td>14</td>\n",
       "    </tr>\n",
       "    <tr>\n",
       "      <th>999997</th>\n",
       "      <td>6</td>\n",
       "      <td>28</td>\n",
       "      <td>10</td>\n",
       "    </tr>\n",
       "    <tr>\n",
       "      <th>999998</th>\n",
       "      <td>6</td>\n",
       "      <td>31</td>\n",
       "      <td>28</td>\n",
       "    </tr>\n",
       "    <tr>\n",
       "      <th>999999</th>\n",
       "      <td>6</td>\n",
       "      <td>30</td>\n",
       "      <td>15</td>\n",
       "    </tr>\n",
       "  </tbody>\n",
       "</table>\n",
       "<p>1000000 rows × 3 columns</p>\n",
       "</div>"
      ],
      "text/plain": [
       "        DayOfMonth  DayOfWeek  DaysInMonth\n",
       "0                4         31           27\n",
       "1                5         31           16\n",
       "2                0         30           19\n",
       "3                5         31           10\n",
       "4                0         30           25\n",
       "...            ...        ...          ...\n",
       "999995           4         31           31\n",
       "999996           3         31           14\n",
       "999997           6         28           10\n",
       "999998           6         31           28\n",
       "999999           6         30           15\n",
       "\n",
       "[1000000 rows x 3 columns]"
      ]
     },
     "execution_count": 7,
     "metadata": {},
     "output_type": "execute_result"
    }
   ],
   "source": [
    "df"
   ]
  },
  {
   "cell_type": "code",
   "execution_count": 8,
   "metadata": {},
   "outputs": [],
   "source": [
    "def sine_dates_np(t, period, comp):\n",
    "    a = (t * (2*np.pi/period))[:, None]\n",
    "    b = np.arange(1, comp + 1) * 2*np.pi / comp  # np.linspace(1, np.pi*2, comp+1)[:-1][None, :]\n",
    "    return np.sin(a * b).squeeze() \n"
   ]
  },
  {
   "cell_type": "code",
   "execution_count": 9,
   "metadata": {},
   "outputs": [
    {
     "data": {
      "text/plain": [
       "array([[ 0.98709105,  0.3161852 , -0.88581055, -0.5999282 ],\n",
       "       [ 0.3161852 , -0.5999282 ,  0.82211556, -0.95994973],\n",
       "       [-0.88581055,  0.82211556,  0.12280994, -0.93609474],\n",
       "       [-0.5999282 , -0.95994973, -0.93609474, -0.53790266],\n",
       "       [ 0.69364143,  0.99928823,  0.74597408,  0.07539256],\n",
       "       [ 0.82211556, -0.93609474,  0.24376058,  0.65853887],\n",
       "       [-0.43030122,  0.77685322, -0.97220684,  0.97834055]])"
      ]
     },
     "execution_count": 9,
     "metadata": {},
     "output_type": "execute_result"
    }
   ],
   "source": [
    "sine_dates_np(np.arange(1, 8), 7, 4)"
   ]
  },
  {
   "cell_type": "code",
   "execution_count": 10,
   "metadata": {},
   "outputs": [],
   "source": [
    "ds = df.head(10)"
   ]
  },
  {
   "cell_type": "code",
   "execution_count": 11,
   "metadata": {},
   "outputs": [
    {
     "data": {
      "text/plain": [
       "array([[-0.27063163, -0.52106493, -0.73260905, -0.8894756 ],\n",
       "       [-0.27063163, -0.52106493, -0.73260905, -0.8894756 ],\n",
       "       [-0.99360014,  0.22446354,  0.94289174, -0.43747158],\n",
       "       [-0.27063163, -0.52106493, -0.73260905, -0.8894756 ],\n",
       "       [-0.99360014,  0.22446354,  0.94289174, -0.43747158],\n",
       "       [-0.27063163, -0.52106493, -0.73260905, -0.8894756 ],\n",
       "       [-0.27063163, -0.52106493, -0.73260905, -0.8894756 ],\n",
       "       [-0.27063163, -0.52106493, -0.73260905, -0.8894756 ],\n",
       "       [-0.27063163, -0.52106493, -0.73260905, -0.8894756 ],\n",
       "       [-0.27063163, -0.52106493, -0.73260905, -0.8894756 ]])"
      ]
     },
     "execution_count": 11,
     "metadata": {},
     "output_type": "execute_result"
    }
   ],
   "source": [
    "sine_dates_np(ds.DayOfWeek, 7, 4)"
   ]
  },
  {
   "cell_type": "code",
   "execution_count": 12,
   "metadata": {},
   "outputs": [
    {
     "data": {
      "text/plain": [
       "array([[ 0.99410527,  0.21556014, -0.94736356, -0.42098489],\n",
       "       [ 0.05730986, -0.11443134,  0.17117666, -0.22735931],\n",
       "       [ 0.        ,  0.        ,  0.        ,  0.        ],\n",
       "       [-0.97536797, -0.43030122,  0.78553281,  0.77685322],\n",
       "       [ 0.        ,  0.        ,  0.        ,  0.        ],\n",
       "       [ 0.        ,  0.        ,  0.        ,  0.        ],\n",
       "       [ 0.4348596 , -0.78318064,  0.97564601, -0.97395443],\n",
       "       [ 0.88450181, -0.82530523, -0.11443134,  0.93207808],\n",
       "       [ 0.81638478,  0.94293805,  0.27272439, -0.62793683],\n",
       "       [ 0.91983974, -0.72169585, -0.35360535,  0.9991306 ]])"
      ]
     },
     "execution_count": 12,
     "metadata": {},
     "output_type": "execute_result"
    }
   ],
   "source": [
    "sine_dates_np(ds.DayOfMonth, ds.DaysInMonth, 4) "
   ]
  },
  {
   "cell_type": "code",
   "execution_count": 58,
   "metadata": {},
   "outputs": [
    {
     "data": {
      "text/plain": [
       "array([[ 0.81245301,  0.29222346,  0.55893585,  0.05866066],\n",
       "       [-0.96532141,  0.70215715,  0.99990268,  0.47972993],\n",
       "       [ 0.63158376,  0.88700116, -0.81917606,  0.52503598],\n",
       "       [-0.28721037, -0.76686341,  0.98436173,  0.2264782 ],\n",
       "       [ 0.85558374,  0.0615215 ,  0.12280994,  0.74597408],\n",
       "       [ 0.7800269 ,  0.44167631, -0.79252142,  0.45972893],\n",
       "       [-0.97395443,  0.77365968,  0.98038367,  0.75408604],\n",
       "       [ 0.        ,  0.        ,  0.        ,  0.        ],\n",
       "       [-0.99992091,  0.99928823,  0.07539256,  0.12544227],\n",
       "       [ 0.        ,  0.        ,  0.        ,  0.        ]])"
      ]
     },
     "execution_count": 58,
     "metadata": {},
     "output_type": "execute_result"
    }
   ],
   "source": [
    "@numba.njit()\n",
    "def sine_dates_numba(time, period, comp):\n",
    "    pi = 3.141592653589793\n",
    "    out = np.zeros((len(time), comp)) \n",
    "    for i in range(len(time)):\n",
    "        for j in range(comp):\n",
    "            b = (2 + j) * 2 * pi / comp\n",
    "            out[i, j] = np.sin(time[i] * (2*pi/period[i]) * b * (j + 1))\n",
    "    return out\n",
    "\n",
    "sine_dates_numba(ds.DayOfMonth.to_numpy(), ds.DaysInMonth.to_numpy(), 4)"
   ]
  },
  {
   "cell_type": "code",
   "execution_count": 67,
   "metadata": {},
   "outputs": [
    {
     "name": "stdout",
     "output_type": "stream",
     "text": [
      "98.9 ms ± 1.48 ms per loop (mean ± std. dev. of 7 runs, 10 loops each)\n",
      "29.8 ms ± 92.3 µs per loop (mean ± std. dev. of 7 runs, 10 loops each)\n"
     ]
    }
   ],
   "source": [
    "%timeit a = sine_dates_numba(df.DayOfMonth.to_numpy(), df.DaysInMonth.to_numpy(), 4) \n",
    "\n",
    "%timeit b = sine_dates_np(df.DayOfMonth, df.DaysInMonth, 4) "
   ]
  },
  {
   "cell_type": "code",
   "execution_count": 71,
   "metadata": {},
   "outputs": [
    {
     "ename": "AttributeError",
     "evalue": "module 'numba' has no attribute 'datetime'",
     "output_type": "error",
     "traceback": [
      "\u001b[0;31m---------------------------------------------------------------------------\u001b[0m",
      "\u001b[0;31mAttributeError\u001b[0m                            Traceback (most recent call last)",
      "\u001b[0;32m<ipython-input-71-86eec88a64b5>\u001b[0m in \u001b[0;36m<module>\u001b[0;34m\u001b[0m\n\u001b[0;32m----> 1\u001b[0;31m \u001b[0;34m@\u001b[0m\u001b[0mnumba\u001b[0m\u001b[0;34m.\u001b[0m\u001b[0mjit\u001b[0m\u001b[0;34m(\u001b[0m\u001b[0mnumba\u001b[0m\u001b[0;34m.\u001b[0m\u001b[0mvoid\u001b[0m\u001b[0;34m(\u001b[0m\u001b[0mnumba\u001b[0m\u001b[0;34m.\u001b[0m\u001b[0mdatetime\u001b[0m\u001b[0;34m)\u001b[0m\u001b[0;34m,\u001b[0m \u001b[0mnopython\u001b[0m\u001b[0;34m=\u001b[0m\u001b[0;32mTrue\u001b[0m\u001b[0;34m)\u001b[0m\u001b[0;34m\u001b[0m\u001b[0;34m\u001b[0m\u001b[0m\n\u001b[0m\u001b[1;32m      2\u001b[0m \u001b[0;32mdef\u001b[0m \u001b[0mfoo\u001b[0m\u001b[0;34m(\u001b[0m\u001b[0mx\u001b[0m\u001b[0;34m)\u001b[0m\u001b[0;34m:\u001b[0m\u001b[0;34m\u001b[0m\u001b[0;34m\u001b[0m\u001b[0m\n\u001b[1;32m      3\u001b[0m     \u001b[0myear\u001b[0m \u001b[0;34m=\u001b[0m \u001b[0mx\u001b[0m\u001b[0;34m.\u001b[0m\u001b[0myear\u001b[0m\u001b[0;34m\u001b[0m\u001b[0;34m\u001b[0m\u001b[0m\n\u001b[1;32m      4\u001b[0m \u001b[0;34m\u001b[0m\u001b[0m\n\u001b[1;32m      5\u001b[0m \u001b[0mfoo\u001b[0m\u001b[0;34m(\u001b[0m\u001b[0mnp\u001b[0m\u001b[0;34m.\u001b[0m\u001b[0mdatetime64\u001b[0m\u001b[0;34m(\u001b[0m\u001b[0;34m'2014-01-01'\u001b[0m\u001b[0;34m)\u001b[0m\u001b[0;34m)\u001b[0m\u001b[0;34m\u001b[0m\u001b[0;34m\u001b[0m\u001b[0m\n",
      "\u001b[0;31mAttributeError\u001b[0m: module 'numba' has no attribute 'datetime'"
     ]
    }
   ],
   "source": []
  },
  {
   "cell_type": "code",
   "execution_count": null,
   "metadata": {},
   "outputs": [],
   "source": []
  }
 ],
 "metadata": {
  "kernelspec": {
   "display_name": "Python 3",
   "language": "python",
   "name": "python3"
  },
  "language_info": {
   "codemirror_mode": {
    "name": "ipython",
    "version": 3
   },
   "file_extension": ".py",
   "mimetype": "text/x-python",
   "name": "python",
   "nbconvert_exporter": "python",
   "pygments_lexer": "ipython3",
   "version": "3.7.4"
  }
 },
 "nbformat": 4,
 "nbformat_minor": 4
}
